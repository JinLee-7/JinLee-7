{
  "nbformat": 4,
  "nbformat_minor": 0,
  "metadata": {
    "colab": {
      "provenance": [],
      "authorship_tag": "ABX9TyOeV68gmC95QEP/XH/kPWdQ",
      "include_colab_link": true
    },
    "kernelspec": {
      "name": "python3",
      "display_name": "Python 3"
    },
    "language_info": {
      "name": "python"
    }
  },
  "cells": [
    {
      "cell_type": "markdown",
      "metadata": {
        "id": "view-in-github",
        "colab_type": "text"
      },
      "source": [
        "<a href=\"https://colab.research.google.com/github/JinLee-7/JinLee-7/blob/main/python_20250326.ipynb\" target=\"_parent\"><img src=\"https://colab.research.google.com/assets/colab-badge.svg\" alt=\"Open In Colab\"/></a>"
      ]
    },
    {
      "cell_type": "markdown",
      "source": [
        "◎ 4자리 숫자 역순 출력 간결 Version"
      ],
      "metadata": {
        "id": "lINfRjQggvWU"
      }
    },
    {
      "cell_type": "code",
      "source": [
        "#4자리 숫자 입력받기\n",
        "num = int(input(\"4자리 숫자를 입력하시오 : \"))\n",
        "#천자리수 + 백자리수 + 십자리수 + 일자리수\n",
        "tho = num % 10 * 1000\n",
        "hun = num % 100 // 10 * 100\n",
        "ten = num % 1000 // 100 * 10\n",
        "one = num // 1000\n",
        "#천자리수 + 백자리수 + 십자리수 + 일자리수\n",
        "print( \"입력한 숫자 역순 출력 :\", tho +  hun + ten + one)"
      ],
      "metadata": {
        "colab": {
          "base_uri": "https://localhost:8080/"
        },
        "id": "5ir3Zx1MXkzP",
        "outputId": "d39c93c5-12a3-4487-ebbb-034c6817df6a"
      },
      "execution_count": 13,
      "outputs": [
        {
          "output_type": "stream",
          "name": "stdout",
          "text": [
            "4자리 숫자를 입력하시오 : 4321\n",
            "입력한 숫자 역순 출력 : 1234\n"
          ]
        }
      ]
    },
    {
      "cell_type": "markdown",
      "source": [
        "◎ 4자리 숫자 역순 출력 Minus Version"
      ],
      "metadata": {
        "id": "zc5N6dWhg6AD"
      }
    },
    {
      "cell_type": "code",
      "source": [
        "#4자리 숫자 입력받기\n",
        "num = int(input(\" 4자리 숫자를 입력하시오 : \"))\n",
        "#천자리수 + 백자리수 + 십자리수 + 일자리수\n",
        "print((num % 10 * 1000) + (num % 100 * 10) - (num % 10 * 10) + ((num % 1000) - (num % 100)) // 10 + num // 1000)"
      ],
      "metadata": {
        "colab": {
          "base_uri": "https://localhost:8080/"
        },
        "id": "gSdy5TVCy7YV",
        "outputId": "1d622eab-43e7-4c5a-9884-74f518e75130"
      },
      "execution_count": null,
      "outputs": [
        {
          "output_type": "stream",
          "name": "stdout",
          "text": [
            " 4자리 숫자를 입력하시오 : 4321\n",
            "1234\n"
          ]
        }
      ]
    },
    {
      "cell_type": "markdown",
      "source": [
        "◎ 섭씨온도에서 화씨온도 계산"
      ],
      "metadata": {
        "id": "52NUyQBzhEe6"
      }
    },
    {
      "cell_type": "code",
      "execution_count": null,
      "metadata": {
        "colab": {
          "base_uri": "https://localhost:8080/"
        },
        "id": "AHe75QkCvxi8",
        "outputId": "b52714bc-10e2-4ba3-fe10-1a37d5f5ebe4"
      },
      "outputs": [
        {
          "output_type": "stream",
          "name": "stdout",
          "text": [
            "섭씨온도를 숫자로 입력하세요 : 6\n",
            "변환한 화씨온도는  42.8 °F 입니다\n"
          ]
        }
      ],
      "source": [
        "#섭씨온도 입력\n",
        "cel = int(input(\"섭씨온도를 숫자로 입력하세요 : \"))\n",
        "#화씨온도 계산\n",
        "fah = (9/5) * cel + 32\n",
        "print(\"변환한 화씨온도는 \",fah,\"°F 입니다\" )"
      ]
    }
  ]
}